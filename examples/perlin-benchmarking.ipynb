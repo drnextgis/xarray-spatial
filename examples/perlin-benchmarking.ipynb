{
 "cells": [
  {
   "cell_type": "markdown",
   "metadata": {},
   "source": [
    "## Procedural Terrain Generation -- Perlin Noise"
   ]
  },
  {
   "cell_type": "markdown",
   "metadata": {},
   "source": [
    "### Details\n",
    "\n",
    "- The CPU code is implemented in Numba and parallelized with the `@jit` flag, `parallel=True`. It has been optimized and operates on single precision floating point numbers (`np.float32`).\n",
    "\n",
    "- The Dask CPU code uses dask arrays and a call to `dask.array.map_blocks()` to distribute the computation. The function run locally by each process is the same as the plain Numba implementation. It also uses `np.float32` numbers. \n",
    "\n",
    "- The GPU code is implemented in Numba and Cupy. Optimizations performed:\n",
    "  - Uses a thread local array to store a 4,2 array used in gradient function\n",
    "  - Each thread calculated multiple output elements. This way the code can handle abstractly large input dimensions, and runs more efficiently.\n",
    "  - The block and grid dimensions have been fine tuned for the V100 GPU.\n",
    "  - Uses `float32` numbers. "
   ]
  },
  {
   "cell_type": "code",
   "execution_count": null,
   "metadata": {},
   "outputs": [],
   "source": [
    "import os\n",
    "import numpy as np\n",
    "import datashader as ds\n",
    "import xarray as xr\n",
    "\n",
    "from xrspatial import fast_perlin"
   ]
  },
  {
   "cell_type": "code",
   "execution_count": null,
   "metadata": {},
   "outputs": [],
   "source": [
    "# This just an example input size. Generally, the GPU speedup is related to the input size.\n",
    "W = 1920\n",
    "H = 1080\n",
    "freq = (2., 3.)\n",
    "seed = 0\n"
   ]
  },
  {
   "cell_type": "markdown",
   "metadata": {},
   "source": [
    "### Load Data"
   ]
  },
  {
   "cell_type": "code",
   "execution_count": null,
   "metadata": {},
   "outputs": [],
   "source": [
    "# Numpy + numba\n",
    "\n",
    "# Use float32 datatype\n",
    "numpy_noise = xr.DataArray(np.zeros((H, W), dtype=np.float32),\n",
    "        name='numpy_terrain',\n",
    "        dims=('y', 'x'),\n",
    "        attrs={'res': 1})\n",
    "\n"
   ]
  },
  {
   "cell_type": "code",
   "execution_count": null,
   "metadata": {},
   "outputs": [],
   "source": [
    "# Transfer terrain to the GPU\n",
    "import cupy\n",
    "cupy_noise = xr.DataArray(cupy.zeros((H, W), dtype=np.float32),\n",
    "                name='cupy_terrain',\n",
    "                dims=('y', 'x'),\n",
    "                attrs={'res': 1})\n"
   ]
  },
  {
   "cell_type": "code",
   "execution_count": null,
   "metadata": {},
   "outputs": [],
   "source": [
    "# Setup dask cluster\n",
    "from dask.distributed import Client\n",
    "client = Client(processes=False, threads_per_worker=1, n_workers=4, memory_limit='2GB')"
   ]
  },
  {
   "cell_type": "code",
   "execution_count": null,
   "metadata": {},
   "outputs": [],
   "source": [
    "# Dask terrain\n",
    "import dask.array as da\n",
    "dask_numpy_noise = xr.DataArray(da.zeros((H, W), dtype=np.float32, chunks=2048),\n",
    "                name='dask_numpy_terrain',\n",
    "                dims=('y', 'x'),\n",
    "                attrs={'res': 1})\n",
    "dask_numpy_noise.persist()"
   ]
  },
  {
   "cell_type": "markdown",
   "metadata": {},
   "source": [
    "### CPU Benchmarking\n",
    "\n",
    "- 4xLarge 16 Cores 128GB RAM"
   ]
  },
  {
   "cell_type": "code",
   "execution_count": null,
   "metadata": {},
   "outputs": [],
   "source": [
    "# run cpu benchmark\n",
    "cpu_time = %timeit -o cpu_res = fast_perlin(numpy_noise, freq, seed)"
   ]
  },
  {
   "cell_type": "markdown",
   "metadata": {},
   "source": [
    "### Dask Benchmarking"
   ]
  },
  {
   "cell_type": "code",
   "execution_count": null,
   "metadata": {},
   "outputs": [],
   "source": [
    "# run dask benchmark\n",
    "dask_cpu_time = %timeit -o dask_cpu_res = fast_perlin(dask_numpy_noise, freq, seed).compute()"
   ]
  },
  {
   "cell_type": "markdown",
   "metadata": {},
   "source": [
    "### GPU Benchmarking\n",
    "\n",
    "- T4\n",
    "- V100"
   ]
  },
  {
   "cell_type": "code",
   "execution_count": null,
   "metadata": {},
   "outputs": [],
   "source": [
    "# run gpu benchmark\n",
    "gpu_time = %timeit -o gpu_res = fast_perlin(cupy_noise, freq, seed)"
   ]
  },
  {
   "cell_type": "markdown",
   "metadata": {},
   "source": [
    "### Calculate and report the results. "
   ]
  },
  {
   "cell_type": "code",
   "execution_count": null,
   "metadata": {},
   "outputs": [],
   "source": [
    "# CPU time  \n",
    "mean_cpu_time = np.mean(cpu_time.all_runs)/cpu_time.loops\n",
    "std_cpu_time = np.std(cpu_time.all_runs)/cpu_time.loops\n",
    "\n",
    "# necessary initializations\n",
    "mean_dask_cpu_time = std_dask_cpu_time = 0\n",
    "mean_gpu_time = std_gpu_time = 0\n",
    "speedup_dask = speedup_gpu = 0"
   ]
  },
  {
   "cell_type": "code",
   "execution_count": null,
   "metadata": {},
   "outputs": [],
   "source": [
    "# DASK time and speedup\n",
    "mean_dask_cpu_time = np.mean(dask_cpu_time.all_runs)/dask_cpu_time.loops\n",
    "std_dask_cpu_time = np.std(dask_cpu_time.all_runs)/dask_cpu_time.loops\n",
    "\n",
    "speedup_dask = mean_cpu_time / mean_dask_cpu_time\n"
   ]
  },
  {
   "cell_type": "code",
   "execution_count": null,
   "metadata": {},
   "outputs": [],
   "source": [
    "# GPU time and speedup\n",
    "mean_gpu_time = np.mean(gpu_time.all_runs)/gpu_time.loops\n",
    "std_gpu_time = np.std(gpu_time.all_runs)/gpu_time.loops\n",
    "\n",
    "speedup_gpu = mean_cpu_time / mean_gpu_time\n"
   ]
  },
  {
   "cell_type": "code",
   "execution_count": null,
   "metadata": {},
   "outputs": [],
   "source": [
    "print('HxW        CPU Time (sec)    Dask Time (sec)    Speedup Dask    GPU Time (sec)    Speedup GPU')\n",
    "print('{}x{}   {:.3f} ± {:.3f}    {:.3f} ± {:.3f}    {:.2f}x    {:.3f} ± {:.3f}    {:.2f}x'.format(\n",
    "        H, W, mean_cpu_time, std_cpu_time,\n",
    "        mean_dask_cpu_time, std_dask_cpu_time, speedup_dask,\n",
    "        mean_gpu_time, std_gpu_time, speedup_gpu))"
   ]
  },
  {
   "cell_type": "code",
   "execution_count": null,
   "metadata": {},
   "outputs": [],
   "source": [
    "# stop the dask cluster\n",
    "client.close()"
   ]
  }
 ],
 "metadata": {
  "kernelspec": {
   "display_name": "Python 3",
   "language": "python",
   "name": "python3"
  },
  "language_info": {
   "codemirror_mode": {
    "name": "ipython",
    "version": 3
   },
   "file_extension": ".py",
   "mimetype": "text/x-python",
   "name": "python",
   "nbconvert_exporter": "python",
   "pygments_lexer": "ipython3",
   "version": "3.8.3"
  }
 },
 "nbformat": 4,
 "nbformat_minor": 5
}
